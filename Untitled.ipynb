{
 "cells": [
  {
   "cell_type": "code",
   "execution_count": 1,
   "metadata": {},
   "outputs": [
    {
     "ename": "SyntaxError",
     "evalue": "invalid syntax (<ipython-input-1-58178216afc9>, line 19)",
     "output_type": "error",
     "traceback": [
      "\u001b[1;36m  File \u001b[1;32m\"<ipython-input-1-58178216afc9>\"\u001b[1;36m, line \u001b[1;32m19\u001b[0m\n\u001b[1;33m    print(\"Processed \",models.shape[0]. \"models on\", len(predictors)+1, \"predictors in\", (toc-tic))\u001b[0m\n\u001b[1;37m                                        ^\u001b[0m\n\u001b[1;31mSyntaxError\u001b[0m\u001b[1;31m:\u001b[0m invalid syntax\n"
     ]
    }
   ],
   "source": [
    "### 전진석택법(step=1)\n",
    "\n",
    "def forward(X,y,predictors):\n",
    "    # predictor - 현재 선택되어있는 변수\n",
    "    # 데이터 변수들이 미리정의된 predictors에 있는지 없는지 확인 및 분류\n",
    "    \n",
    "    remaining_predictors = [p for p in X.columns.difference(['const']) if p not in predictors]\n",
    "    tic = time.time()\n",
    "    results = []\n",
    "    for p in remaining_predictors :\n",
    "        results.append(processSubset(X=X,y=y,feature_set=predictors+[p]+['const']))\n",
    "    \n",
    "    # 데이터프레임으로 변환\n",
    "    models = pd.DataFrame(results)\n",
    "    \n",
    "    # AIC가 가장 낮은 것을 선택\n",
    "    best_model = models.loc[models['AIC'].argmin()]\n",
    "    toc = time.time()\n",
    "    print(\"Processed \",models.shape[0]. \"models on\", len(predictors)+1, \"predictors in\", (toc-tic))\n",
    "    print(\"Selected predictors:\",best_model[\"model\"].model.exog_names,\"AIC: \",best_model[0])\n",
    "    return best_model\n",
    "    \n",
    "### 전진선택법 모델\n",
    "\n",
    "def forward_model(X,y):\n",
    "\n",
    "    Fmodels = pd.DataFrame(columns=[\"AIC\",\"model\"])\n",
    "    tic = time.time()\n",
    "    \n",
    "    # 미리 정의된 데이터 변수\n",
    "    predictors = []\n",
    "    \n",
    "    # 변수 1~10개 : 0-9 -> 1-10\n",
    "    for i in range(1,len(X,columns.difference(['const']))+1):\n",
    "        Forward_result = forward(X=X,y=y,predictors=predictors)\n",
    "        if i > 1 :\n",
    "            if Forward_result[\"AIC\"] > Fmodel_before:\n",
    "                break\n",
    "        Fmodels.loc[i] = Forward_result\n",
    "        predictors = Fmodels.loc[i][\"model\"].model.exog_names\n",
    "        Fmodel_before = Fmodels.loc[i][\"AIC\"]\n",
    "        predictors = [k for k in predictors if k != 'const']\n",
    "    toc = time.time()\n",
    "    print(\"Total elapsed time:\",(toc-tic), \"seconds.\")\n",
    "    \n",
    "    return (Fmodels['model'][len(Fmodels['model'])])"
   ]
  }
 ],
 "metadata": {
  "kernelspec": {
   "display_name": "pydatavenv",
   "language": "python",
   "name": "pydatavenv"
  },
  "language_info": {
   "codemirror_mode": {
    "name": "ipython",
    "version": 3
   },
   "file_extension": ".py",
   "mimetype": "text/x-python",
   "name": "python",
   "nbconvert_exporter": "python",
   "pygments_lexer": "ipython3",
   "version": "3.8.8"
  }
 },
 "nbformat": 4,
 "nbformat_minor": 4
}
