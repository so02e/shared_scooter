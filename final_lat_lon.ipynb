{
 "cells": [
  {
   "cell_type": "code",
   "execution_count": 2,
   "metadata": {},
   "outputs": [],
   "source": [
    "import folium\n",
    "import json\n",
    "import pandas as pd\n",
    "import numpy as np\n",
    "import geopandas as gpd\n",
    "import fiona\n",
    "import os\n",
    "import seaborn as sns\n",
    "import matplotlib.pyplot as plt\n",
    "from shapely.geometry import Polygon, LineString, Point\n",
    "from tqdm import tqdm"
   ]
  },
  {
   "cell_type": "code",
   "execution_count": null,
   "metadata": {},
   "outputs": [],
   "source": []
  },
  {
   "cell_type": "code",
   "execution_count": 14,
   "metadata": {},
   "outputs": [
    {
     "data": {
      "text/plain": [
       "Index(['Unnamed: 0', 'gid', 'pre', 'geometry'], dtype='object')"
      ]
     },
     "execution_count": 14,
     "metadata": {},
     "output_type": "execute_result"
    }
   ],
   "source": [
    "top130 = pd.read_csv('output/그리드 전처리 완료/top130_result_0525.csv')\n",
    "top130.columns"
   ]
  },
  {
   "cell_type": "code",
   "execution_count": 15,
   "metadata": {},
   "outputs": [
    {
     "data": {
      "text/plain": [
       "pandas.core.frame.DataFrame"
      ]
     },
     "execution_count": 15,
     "metadata": {},
     "output_type": "execute_result"
    }
   ],
   "source": [
    "type(top130)"
   ]
  },
  {
   "cell_type": "code",
   "execution_count": 4,
   "metadata": {},
   "outputs": [
    {
     "data": {
      "text/html": [
       "<div>\n",
       "<style scoped>\n",
       "    .dataframe tbody tr th:only-of-type {\n",
       "        vertical-align: middle;\n",
       "    }\n",
       "\n",
       "    .dataframe tbody tr th {\n",
       "        vertical-align: top;\n",
       "    }\n",
       "\n",
       "    .dataframe thead th {\n",
       "        text-align: right;\n",
       "    }\n",
       "</style>\n",
       "<table border=\"1\" class=\"dataframe\">\n",
       "  <thead>\n",
       "    <tr style=\"text-align: right;\">\n",
       "      <th></th>\n",
       "      <th>Unnamed: 0</th>\n",
       "      <th>gid</th>\n",
       "      <th>pre</th>\n",
       "      <th>geometry</th>\n",
       "    </tr>\n",
       "  </thead>\n",
       "  <tbody>\n",
       "    <tr>\n",
       "      <th>0</th>\n",
       "      <td>0</td>\n",
       "      <td>다사584438</td>\n",
       "      <td>0.601264</td>\n",
       "      <td>MULTIPOLYGON (((127.0294072677652 37.492515899...</td>\n",
       "    </tr>\n",
       "    <tr>\n",
       "      <th>1</th>\n",
       "      <td>1</td>\n",
       "      <td>다사583441</td>\n",
       "      <td>0.332130</td>\n",
       "      <td>MULTIPOLYGON (((127.028259062929 37.4952153986...</td>\n",
       "    </tr>\n",
       "    <tr>\n",
       "      <th>2</th>\n",
       "      <td>2</td>\n",
       "      <td>다사580448</td>\n",
       "      <td>0.236570</td>\n",
       "      <td>MULTIPOLYGON (((127.024825371476 37.5015111489...</td>\n",
       "    </tr>\n",
       "    <tr>\n",
       "      <th>3</th>\n",
       "      <td>3</td>\n",
       "      <td>다사591477</td>\n",
       "      <td>0.210704</td>\n",
       "      <td>MULTIPOLYGON (((127.0371086285771 37.527699266...</td>\n",
       "    </tr>\n",
       "    <tr>\n",
       "      <th>4</th>\n",
       "      <td>4</td>\n",
       "      <td>다사590447</td>\n",
       "      <td>0.156495</td>\n",
       "      <td>MULTIPOLYGON (((127.0361442854724 37.500654778...</td>\n",
       "    </tr>\n",
       "    <tr>\n",
       "      <th>...</th>\n",
       "      <td>...</td>\n",
       "      <td>...</td>\n",
       "      <td>...</td>\n",
       "      <td>...</td>\n",
       "    </tr>\n",
       "    <tr>\n",
       "      <th>125</th>\n",
       "      <td>125</td>\n",
       "      <td>다사556457</td>\n",
       "      <td>0.017273</td>\n",
       "      <td>MULTIPOLYGON (((126.9976191084316 37.509510789...</td>\n",
       "    </tr>\n",
       "    <tr>\n",
       "      <th>126</th>\n",
       "      <td>126</td>\n",
       "      <td>다사546444</td>\n",
       "      <td>0.017112</td>\n",
       "      <td>MULTIPOLYGON (((126.9863849114795 37.497744837...</td>\n",
       "    </tr>\n",
       "    <tr>\n",
       "      <th>127</th>\n",
       "      <td>127</td>\n",
       "      <td>다사591421</td>\n",
       "      <td>0.017067</td>\n",
       "      <td>MULTIPOLYGON (((127.0374201413608 37.477224404...</td>\n",
       "    </tr>\n",
       "    <tr>\n",
       "      <th>128</th>\n",
       "      <td>128</td>\n",
       "      <td>다사544445</td>\n",
       "      <td>0.016976</td>\n",
       "      <td>MULTIPOLYGON (((126.9841161730881 37.498636309...</td>\n",
       "    </tr>\n",
       "    <tr>\n",
       "      <th>129</th>\n",
       "      <td>129</td>\n",
       "      <td>다사578473</td>\n",
       "      <td>0.016864</td>\n",
       "      <td>MULTIPOLYGON (((127.0224191454873 37.524035358...</td>\n",
       "    </tr>\n",
       "  </tbody>\n",
       "</table>\n",
       "<p>130 rows × 4 columns</p>\n",
       "</div>"
      ],
      "text/plain": [
       "     Unnamed: 0       gid       pre  \\\n",
       "0             0  다사584438  0.601264   \n",
       "1             1  다사583441  0.332130   \n",
       "2             2  다사580448  0.236570   \n",
       "3             3  다사591477  0.210704   \n",
       "4             4  다사590447  0.156495   \n",
       "..          ...       ...       ...   \n",
       "125         125  다사556457  0.017273   \n",
       "126         126  다사546444  0.017112   \n",
       "127         127  다사591421  0.017067   \n",
       "128         128  다사544445  0.016976   \n",
       "129         129  다사578473  0.016864   \n",
       "\n",
       "                                              geometry  \n",
       "0    MULTIPOLYGON (((127.0294072677652 37.492515899...  \n",
       "1    MULTIPOLYGON (((127.028259062929 37.4952153986...  \n",
       "2    MULTIPOLYGON (((127.024825371476 37.5015111489...  \n",
       "3    MULTIPOLYGON (((127.0371086285771 37.527699266...  \n",
       "4    MULTIPOLYGON (((127.0361442854724 37.500654778...  \n",
       "..                                                 ...  \n",
       "125  MULTIPOLYGON (((126.9976191084316 37.509510789...  \n",
       "126  MULTIPOLYGON (((126.9863849114795 37.497744837...  \n",
       "127  MULTIPOLYGON (((127.0374201413608 37.477224404...  \n",
       "128  MULTIPOLYGON (((126.9841161730881 37.498636309...  \n",
       "129  MULTIPOLYGON (((127.0224191454873 37.524035358...  \n",
       "\n",
       "[130 rows x 4 columns]"
      ]
     },
     "execution_count": 4,
     "metadata": {},
     "output_type": "execute_result"
    }
   ],
   "source": [
    "top130  = gpd.GeoDataFrame(top130)\n"
   ]
  },
  {
   "cell_type": "code",
   "execution_count": 16,
   "metadata": {},
   "outputs": [
    {
     "name": "stderr",
     "output_type": "stream",
     "text": [
      "C:\\Users\\user\\anaconda3\\lib\\site-packages\\pyproj\\crs\\crs.py:53: FutureWarning: '+init=<authority>:<code>' syntax is deprecated. '<authority>:<code>' is the preferred initialization method. When making the change, be mindful of axis order changes: https://pyproj4.github.io/pyproj/stable/gotchas.html#axis-order-changes-in-proj-6\n",
      "  return _prepare_from_string(\" \".join(pjargs))\n",
      "<ipython-input-16-a1c42a3ffe89>:1: FutureWarning: Assigning CRS to a GeoDataFrame without a geometry column is now deprecated and will not be supported in the future.\n",
      "  top130 = gpd.GeoDataFrame(top130, crs={'init': 'epsg:4326'})\n"
     ]
    },
    {
     "data": {
      "text/html": [
       "<div>\n",
       "<style scoped>\n",
       "    .dataframe tbody tr th:only-of-type {\n",
       "        vertical-align: middle;\n",
       "    }\n",
       "\n",
       "    .dataframe tbody tr th {\n",
       "        vertical-align: top;\n",
       "    }\n",
       "\n",
       "    .dataframe thead th {\n",
       "        text-align: right;\n",
       "    }\n",
       "</style>\n",
       "<table border=\"1\" class=\"dataframe\">\n",
       "  <thead>\n",
       "    <tr style=\"text-align: right;\">\n",
       "      <th></th>\n",
       "      <th>Unnamed: 0</th>\n",
       "      <th>gid</th>\n",
       "      <th>pre</th>\n",
       "      <th>geometry</th>\n",
       "    </tr>\n",
       "  </thead>\n",
       "  <tbody>\n",
       "    <tr>\n",
       "      <th>0</th>\n",
       "      <td>0</td>\n",
       "      <td>다사584438</td>\n",
       "      <td>0.601264</td>\n",
       "      <td>MULTIPOLYGON (((127.0294072677652 37.492515899...</td>\n",
       "    </tr>\n",
       "    <tr>\n",
       "      <th>1</th>\n",
       "      <td>1</td>\n",
       "      <td>다사583441</td>\n",
       "      <td>0.332130</td>\n",
       "      <td>MULTIPOLYGON (((127.028259062929 37.4952153986...</td>\n",
       "    </tr>\n",
       "    <tr>\n",
       "      <th>2</th>\n",
       "      <td>2</td>\n",
       "      <td>다사580448</td>\n",
       "      <td>0.236570</td>\n",
       "      <td>MULTIPOLYGON (((127.024825371476 37.5015111489...</td>\n",
       "    </tr>\n",
       "    <tr>\n",
       "      <th>3</th>\n",
       "      <td>3</td>\n",
       "      <td>다사591477</td>\n",
       "      <td>0.210704</td>\n",
       "      <td>MULTIPOLYGON (((127.0371086285771 37.527699266...</td>\n",
       "    </tr>\n",
       "    <tr>\n",
       "      <th>4</th>\n",
       "      <td>4</td>\n",
       "      <td>다사590447</td>\n",
       "      <td>0.156495</td>\n",
       "      <td>MULTIPOLYGON (((127.0361442854724 37.500654778...</td>\n",
       "    </tr>\n",
       "    <tr>\n",
       "      <th>...</th>\n",
       "      <td>...</td>\n",
       "      <td>...</td>\n",
       "      <td>...</td>\n",
       "      <td>...</td>\n",
       "    </tr>\n",
       "    <tr>\n",
       "      <th>125</th>\n",
       "      <td>125</td>\n",
       "      <td>다사556457</td>\n",
       "      <td>0.017273</td>\n",
       "      <td>MULTIPOLYGON (((126.9976191084316 37.509510789...</td>\n",
       "    </tr>\n",
       "    <tr>\n",
       "      <th>126</th>\n",
       "      <td>126</td>\n",
       "      <td>다사546444</td>\n",
       "      <td>0.017112</td>\n",
       "      <td>MULTIPOLYGON (((126.9863849114795 37.497744837...</td>\n",
       "    </tr>\n",
       "    <tr>\n",
       "      <th>127</th>\n",
       "      <td>127</td>\n",
       "      <td>다사591421</td>\n",
       "      <td>0.017067</td>\n",
       "      <td>MULTIPOLYGON (((127.0374201413608 37.477224404...</td>\n",
       "    </tr>\n",
       "    <tr>\n",
       "      <th>128</th>\n",
       "      <td>128</td>\n",
       "      <td>다사544445</td>\n",
       "      <td>0.016976</td>\n",
       "      <td>MULTIPOLYGON (((126.9841161730881 37.498636309...</td>\n",
       "    </tr>\n",
       "    <tr>\n",
       "      <th>129</th>\n",
       "      <td>129</td>\n",
       "      <td>다사578473</td>\n",
       "      <td>0.016864</td>\n",
       "      <td>MULTIPOLYGON (((127.0224191454873 37.524035358...</td>\n",
       "    </tr>\n",
       "  </tbody>\n",
       "</table>\n",
       "<p>130 rows × 4 columns</p>\n",
       "</div>"
      ],
      "text/plain": [
       "     Unnamed: 0       gid       pre  \\\n",
       "0             0  다사584438  0.601264   \n",
       "1             1  다사583441  0.332130   \n",
       "2             2  다사580448  0.236570   \n",
       "3             3  다사591477  0.210704   \n",
       "4             4  다사590447  0.156495   \n",
       "..          ...       ...       ...   \n",
       "125         125  다사556457  0.017273   \n",
       "126         126  다사546444  0.017112   \n",
       "127         127  다사591421  0.017067   \n",
       "128         128  다사544445  0.016976   \n",
       "129         129  다사578473  0.016864   \n",
       "\n",
       "                                              geometry  \n",
       "0    MULTIPOLYGON (((127.0294072677652 37.492515899...  \n",
       "1    MULTIPOLYGON (((127.028259062929 37.4952153986...  \n",
       "2    MULTIPOLYGON (((127.024825371476 37.5015111489...  \n",
       "3    MULTIPOLYGON (((127.0371086285771 37.527699266...  \n",
       "4    MULTIPOLYGON (((127.0361442854724 37.500654778...  \n",
       "..                                                 ...  \n",
       "125  MULTIPOLYGON (((126.9976191084316 37.509510789...  \n",
       "126  MULTIPOLYGON (((126.9863849114795 37.497744837...  \n",
       "127  MULTIPOLYGON (((127.0374201413608 37.477224404...  \n",
       "128  MULTIPOLYGON (((126.9841161730881 37.498636309...  \n",
       "129  MULTIPOLYGON (((127.0224191454873 37.524035358...  \n",
       "\n",
       "[130 rows x 4 columns]"
      ]
     },
     "execution_count": 16,
     "metadata": {},
     "output_type": "execute_result"
    }
   ],
   "source": [
    "top130 = gpd.GeoDataFrame(top130, crs={'init': 'epsg:4326'})\n",
    "top130\n",
    "\n"
   ]
  },
  {
   "cell_type": "code",
   "execution_count": 17,
   "metadata": {},
   "outputs": [
    {
     "data": {
      "text/plain": [
       "geopandas.geodataframe.GeoDataFrame"
      ]
     },
     "execution_count": 17,
     "metadata": {},
     "output_type": "execute_result"
    }
   ],
   "source": [
    "type(top130)"
   ]
  },
  {
   "cell_type": "code",
   "execution_count": 19,
   "metadata": {},
   "outputs": [
    {
     "data": {
      "text/plain": [
       "Unnamed: 0      int64\n",
       "gid            object\n",
       "pre           float64\n",
       "geometry       object\n",
       "dtype: object"
      ]
     },
     "execution_count": 19,
     "metadata": {},
     "output_type": "execute_result"
    }
   ],
   "source": [
    "top130.dtypes"
   ]
  },
  {
   "cell_type": "code",
   "execution_count": 20,
   "metadata": {},
   "outputs": [
    {
     "ename": "AttributeError",
     "evalue": "'Series' object has no attribute 'centroid'",
     "output_type": "error",
     "traceback": [
      "\u001b[1;31m---------------------------------------------------------------------------\u001b[0m",
      "\u001b[1;31mAttributeError\u001b[0m                            Traceback (most recent call last)",
      "\u001b[1;32m<ipython-input-20-3d42312a3348>\u001b[0m in \u001b[0;36m<module>\u001b[1;34m\u001b[0m\n\u001b[1;32m----> 1\u001b[1;33m \u001b[0mtop130\u001b[0m\u001b[1;33m[\u001b[0m\u001b[1;34m'경도'\u001b[0m\u001b[1;33m]\u001b[0m \u001b[1;33m=\u001b[0m \u001b[0mtop130\u001b[0m\u001b[1;33m[\u001b[0m\u001b[1;34m'geometry'\u001b[0m\u001b[1;33m]\u001b[0m\u001b[1;33m.\u001b[0m\u001b[0mcentroid\u001b[0m\u001b[1;33m.\u001b[0m\u001b[0mx\u001b[0m\u001b[1;33m\u001b[0m\u001b[1;33m\u001b[0m\u001b[0m\n\u001b[0m\u001b[0;32m      2\u001b[0m \u001b[0mtop130\u001b[0m\u001b[1;33m[\u001b[0m\u001b[1;34m'위도'\u001b[0m\u001b[1;33m]\u001b[0m \u001b[1;33m=\u001b[0m \u001b[0mtop130\u001b[0m\u001b[1;33m[\u001b[0m\u001b[1;34m'geometry'\u001b[0m\u001b[1;33m]\u001b[0m\u001b[1;33m.\u001b[0m\u001b[0mcentroid\u001b[0m\u001b[1;33m.\u001b[0m\u001b[0my\u001b[0m\u001b[1;33m\u001b[0m\u001b[1;33m\u001b[0m\u001b[0m\n\u001b[0;32m      3\u001b[0m \u001b[0mtop130\u001b[0m\u001b[1;33m\u001b[0m\u001b[1;33m\u001b[0m\u001b[0m\n",
      "\u001b[1;32m~\\anaconda3\\lib\\site-packages\\pandas\\core\\generic.py\u001b[0m in \u001b[0;36m__getattr__\u001b[1;34m(self, name)\u001b[0m\n\u001b[0;32m   5137\u001b[0m             \u001b[1;32mif\u001b[0m \u001b[0mself\u001b[0m\u001b[1;33m.\u001b[0m\u001b[0m_info_axis\u001b[0m\u001b[1;33m.\u001b[0m\u001b[0m_can_hold_identifiers_and_holds_name\u001b[0m\u001b[1;33m(\u001b[0m\u001b[0mname\u001b[0m\u001b[1;33m)\u001b[0m\u001b[1;33m:\u001b[0m\u001b[1;33m\u001b[0m\u001b[1;33m\u001b[0m\u001b[0m\n\u001b[0;32m   5138\u001b[0m                 \u001b[1;32mreturn\u001b[0m \u001b[0mself\u001b[0m\u001b[1;33m[\u001b[0m\u001b[0mname\u001b[0m\u001b[1;33m]\u001b[0m\u001b[1;33m\u001b[0m\u001b[1;33m\u001b[0m\u001b[0m\n\u001b[1;32m-> 5139\u001b[1;33m             \u001b[1;32mreturn\u001b[0m \u001b[0mobject\u001b[0m\u001b[1;33m.\u001b[0m\u001b[0m__getattribute__\u001b[0m\u001b[1;33m(\u001b[0m\u001b[0mself\u001b[0m\u001b[1;33m,\u001b[0m \u001b[0mname\u001b[0m\u001b[1;33m)\u001b[0m\u001b[1;33m\u001b[0m\u001b[1;33m\u001b[0m\u001b[0m\n\u001b[0m\u001b[0;32m   5140\u001b[0m \u001b[1;33m\u001b[0m\u001b[0m\n\u001b[0;32m   5141\u001b[0m     \u001b[1;32mdef\u001b[0m \u001b[0m__setattr__\u001b[0m\u001b[1;33m(\u001b[0m\u001b[0mself\u001b[0m\u001b[1;33m,\u001b[0m \u001b[0mname\u001b[0m\u001b[1;33m:\u001b[0m \u001b[0mstr\u001b[0m\u001b[1;33m,\u001b[0m \u001b[0mvalue\u001b[0m\u001b[1;33m)\u001b[0m \u001b[1;33m->\u001b[0m \u001b[1;32mNone\u001b[0m\u001b[1;33m:\u001b[0m\u001b[1;33m\u001b[0m\u001b[1;33m\u001b[0m\u001b[0m\n",
      "\u001b[1;31mAttributeError\u001b[0m: 'Series' object has no attribute 'centroid'"
     ]
    }
   ],
   "source": [
    "top130['경도'] = top130['geometry'].centroid.x\n",
    "top130['위도'] = top130['geometry'].centroid.y\n",
    "top130"
   ]
  }
 ],
 "metadata": {
  "kernelspec": {
   "display_name": "Python 3",
   "language": "python",
   "name": "python3"
  },
  "language_info": {
   "codemirror_mode": {
    "name": "ipython",
    "version": 3
   },
   "file_extension": ".py",
   "mimetype": "text/x-python",
   "name": "python",
   "nbconvert_exporter": "python",
   "pygments_lexer": "ipython3",
   "version": "3.8.5"
  }
 },
 "nbformat": 4,
 "nbformat_minor": 4
}
