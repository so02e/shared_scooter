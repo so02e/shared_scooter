{
 "cells": [
  {
   "cell_type": "code",
   "execution_count": 11,
   "metadata": {},
   "outputs": [
    {
     "name": "stdin",
     "output_type": "stream",
     "text": [
      "검색할 키워드를 입력하세요 :  electric scooter\n",
      "개수 :  2\n"
     ]
    }
   ],
   "source": [
    "from selenium import webdriver\n",
    "from selenium.webdriver.common.keys import Keys\n",
    "import time\n",
    "import urllib.request\n",
    "import os\n",
    "a=input(\"검색할 키워드를 입력하세요 : \")\n",
    "b=int(input(\"개수 : \"))\n",
    "\n",
    "driver = webdriver.Chrome('C:/Temp/chromedriver')\n",
    "\n",
    "driver.get('http://www.google.co.kr/imghp?hl=ko')\n",
    "elem = driver.find_element_by_name(\"q\")\n",
    "elem.send_keys(a)\n",
    "elem.send_keys(Keys.RETURN)\n",
    "images = driver.find_elements_by_css_selector(\".rg_i.Q4LuWd\")\n",
    "count = 0\n",
    "for image in images:\n",
    "    try:\n",
    "        image.click()\n",
    "        time.sleep(2)\n",
    "        imgUrl = driver.find_element_by_xpath(\"#islrg > div.islrc > div:nth-child(1) > a.wXeWr.islib.nfEiy.mM5pbd > div.bRMDJf.islir > img\").get_attribute(\"src\")\n",
    "        urllib.request.urlretrieve(imgUrl, \"imgfile/\" + a + str(count) + \".jpg\")\n",
    "        count += 1\n",
    "        if count == b:\n",
    "            break\n",
    "    except:\n",
    "        pass\n",
    "driver.close()"
   ]
  },
  {
   "cell_type": "code",
   "execution_count": 13,
   "metadata": {},
   "outputs": [
    {
     "data": {
      "text/plain": [
       "[<selenium.webdriver.remote.webelement.WebElement (session=\"c50d5654f0db20aeba3c0438bc0031b3\", element=\"f32253ca-f080-4b37-abad-a722f3b95955\")>,\n",
       " <selenium.webdriver.remote.webelement.WebElement (session=\"c50d5654f0db20aeba3c0438bc0031b3\", element=\"7ac51a6a-8fc4-40d9-b065-2433accf587e\")>,\n",
       " <selenium.webdriver.remote.webelement.WebElement (session=\"c50d5654f0db20aeba3c0438bc0031b3\", element=\"c59dabcc-6251-4102-b26f-d3de68161b87\")>,\n",
       " <selenium.webdriver.remote.webelement.WebElement (session=\"c50d5654f0db20aeba3c0438bc0031b3\", element=\"872eafc3-fcc4-4f22-860b-302e9ee8d2cd\")>,\n",
       " <selenium.webdriver.remote.webelement.WebElement (session=\"c50d5654f0db20aeba3c0438bc0031b3\", element=\"88f7526a-333a-44ba-92f6-610d2e398829\")>,\n",
       " <selenium.webdriver.remote.webelement.WebElement (session=\"c50d5654f0db20aeba3c0438bc0031b3\", element=\"e26a575c-1442-43d7-adf8-0a924bd23696\")>,\n",
       " <selenium.webdriver.remote.webelement.WebElement (session=\"c50d5654f0db20aeba3c0438bc0031b3\", element=\"d169fdac-6558-4578-bcd6-ec4f952bea5c\")>,\n",
       " <selenium.webdriver.remote.webelement.WebElement (session=\"c50d5654f0db20aeba3c0438bc0031b3\", element=\"16406c61-7aa4-43d1-a297-e3c95be14b48\")>,\n",
       " <selenium.webdriver.remote.webelement.WebElement (session=\"c50d5654f0db20aeba3c0438bc0031b3\", element=\"b84a22bb-aa0e-4b3d-aef9-81e60bcd7e3f\")>,\n",
       " <selenium.webdriver.remote.webelement.WebElement (session=\"c50d5654f0db20aeba3c0438bc0031b3\", element=\"582384d2-fb16-4a0f-9208-9a95e4f9077a\")>,\n",
       " <selenium.webdriver.remote.webelement.WebElement (session=\"c50d5654f0db20aeba3c0438bc0031b3\", element=\"53558da7-c625-4cd6-bfa9-17ad04943854\")>,\n",
       " <selenium.webdriver.remote.webelement.WebElement (session=\"c50d5654f0db20aeba3c0438bc0031b3\", element=\"e8fd2fb3-6027-4a87-b5d7-1c6e05820c0e\")>,\n",
       " <selenium.webdriver.remote.webelement.WebElement (session=\"c50d5654f0db20aeba3c0438bc0031b3\", element=\"3d993e95-8427-4f46-98b5-e47291415d97\")>,\n",
       " <selenium.webdriver.remote.webelement.WebElement (session=\"c50d5654f0db20aeba3c0438bc0031b3\", element=\"6578a3e1-7e67-4d89-a4d6-77e6dff61a1d\")>,\n",
       " <selenium.webdriver.remote.webelement.WebElement (session=\"c50d5654f0db20aeba3c0438bc0031b3\", element=\"0bad3bca-c5c3-4703-80b1-545cc932e87f\")>,\n",
       " <selenium.webdriver.remote.webelement.WebElement (session=\"c50d5654f0db20aeba3c0438bc0031b3\", element=\"112be455-e615-4052-adc0-ff4c4f1bf1bc\")>,\n",
       " <selenium.webdriver.remote.webelement.WebElement (session=\"c50d5654f0db20aeba3c0438bc0031b3\", element=\"9e3fede9-a4f8-400a-b8f6-c12ca1b6f23a\")>,\n",
       " <selenium.webdriver.remote.webelement.WebElement (session=\"c50d5654f0db20aeba3c0438bc0031b3\", element=\"ffc18116-5ad3-42ac-a89f-4d7a905ca448\")>,\n",
       " <selenium.webdriver.remote.webelement.WebElement (session=\"c50d5654f0db20aeba3c0438bc0031b3\", element=\"39bf0468-6891-4b5b-9fcc-7f43e4eb2a0c\")>,\n",
       " <selenium.webdriver.remote.webelement.WebElement (session=\"c50d5654f0db20aeba3c0438bc0031b3\", element=\"f0b3a528-66ac-4e21-a0e1-57e7cc5e2902\")>,\n",
       " <selenium.webdriver.remote.webelement.WebElement (session=\"c50d5654f0db20aeba3c0438bc0031b3\", element=\"77d7539b-1fd6-4171-bd3d-ce9c13741974\")>,\n",
       " <selenium.webdriver.remote.webelement.WebElement (session=\"c50d5654f0db20aeba3c0438bc0031b3\", element=\"9329bd9d-10a2-4b3a-9a48-2b1fb9e524b5\")>,\n",
       " <selenium.webdriver.remote.webelement.WebElement (session=\"c50d5654f0db20aeba3c0438bc0031b3\", element=\"a4ddbf31-822e-4aa1-8240-149ed1254327\")>,\n",
       " <selenium.webdriver.remote.webelement.WebElement (session=\"c50d5654f0db20aeba3c0438bc0031b3\", element=\"79e6f10f-c814-4044-a319-ab792e1c9ddf\")>,\n",
       " <selenium.webdriver.remote.webelement.WebElement (session=\"c50d5654f0db20aeba3c0438bc0031b3\", element=\"e6751167-9e61-45ed-a7bf-4e18516f549f\")>,\n",
       " <selenium.webdriver.remote.webelement.WebElement (session=\"c50d5654f0db20aeba3c0438bc0031b3\", element=\"1758ab2d-da87-4db2-822a-223ad1954aea\")>,\n",
       " <selenium.webdriver.remote.webelement.WebElement (session=\"c50d5654f0db20aeba3c0438bc0031b3\", element=\"c33dc83a-f869-495f-9a58-a56d73107b04\")>,\n",
       " <selenium.webdriver.remote.webelement.WebElement (session=\"c50d5654f0db20aeba3c0438bc0031b3\", element=\"a451f165-61e9-4415-8e83-33b933d9473b\")>,\n",
       " <selenium.webdriver.remote.webelement.WebElement (session=\"c50d5654f0db20aeba3c0438bc0031b3\", element=\"9fae3b15-f861-452f-b18f-be98a5d78349\")>,\n",
       " <selenium.webdriver.remote.webelement.WebElement (session=\"c50d5654f0db20aeba3c0438bc0031b3\", element=\"d7ce6d09-6a61-4121-9bbf-1c09f728ced4\")>,\n",
       " <selenium.webdriver.remote.webelement.WebElement (session=\"c50d5654f0db20aeba3c0438bc0031b3\", element=\"9e4fa9dd-7244-40d1-8ffd-525e7800e4ab\")>,\n",
       " <selenium.webdriver.remote.webelement.WebElement (session=\"c50d5654f0db20aeba3c0438bc0031b3\", element=\"5f45eb1c-b304-4250-965f-612c00fd51d4\")>,\n",
       " <selenium.webdriver.remote.webelement.WebElement (session=\"c50d5654f0db20aeba3c0438bc0031b3\", element=\"b9071091-c5da-48f8-959a-2793255243cc\")>,\n",
       " <selenium.webdriver.remote.webelement.WebElement (session=\"c50d5654f0db20aeba3c0438bc0031b3\", element=\"58cae378-79e6-4926-b8bf-efd21be4d186\")>,\n",
       " <selenium.webdriver.remote.webelement.WebElement (session=\"c50d5654f0db20aeba3c0438bc0031b3\", element=\"d1066ebb-3658-4d1e-ba4e-65d2c7e9728f\")>,\n",
       " <selenium.webdriver.remote.webelement.WebElement (session=\"c50d5654f0db20aeba3c0438bc0031b3\", element=\"adcecde2-7ef2-4fa8-9d34-1664a7eb7c11\")>,\n",
       " <selenium.webdriver.remote.webelement.WebElement (session=\"c50d5654f0db20aeba3c0438bc0031b3\", element=\"10b1ef20-5f82-4a68-9ccc-2022af1dc09d\")>,\n",
       " <selenium.webdriver.remote.webelement.WebElement (session=\"c50d5654f0db20aeba3c0438bc0031b3\", element=\"db9f9db1-ad4f-4f0e-8fb2-3bc12ddc188a\")>,\n",
       " <selenium.webdriver.remote.webelement.WebElement (session=\"c50d5654f0db20aeba3c0438bc0031b3\", element=\"71e25841-2afb-4924-8bec-0fd89fdb714c\")>,\n",
       " <selenium.webdriver.remote.webelement.WebElement (session=\"c50d5654f0db20aeba3c0438bc0031b3\", element=\"a7c7a758-cd1f-4910-bd57-3eb205f01a74\")>,\n",
       " <selenium.webdriver.remote.webelement.WebElement (session=\"c50d5654f0db20aeba3c0438bc0031b3\", element=\"08caf023-54ea-48ca-9f2f-a789a02a9c37\")>,\n",
       " <selenium.webdriver.remote.webelement.WebElement (session=\"c50d5654f0db20aeba3c0438bc0031b3\", element=\"6c024dbd-4ac0-4696-8699-0a2c1cf01d0e\")>,\n",
       " <selenium.webdriver.remote.webelement.WebElement (session=\"c50d5654f0db20aeba3c0438bc0031b3\", element=\"85e54f39-30d7-42bd-82a8-49503197a7e8\")>,\n",
       " <selenium.webdriver.remote.webelement.WebElement (session=\"c50d5654f0db20aeba3c0438bc0031b3\", element=\"48b42e58-0478-4a75-99ba-55ccd772f97a\")>,\n",
       " <selenium.webdriver.remote.webelement.WebElement (session=\"c50d5654f0db20aeba3c0438bc0031b3\", element=\"474ea021-fc61-48b6-a500-eb5cb872d298\")>,\n",
       " <selenium.webdriver.remote.webelement.WebElement (session=\"c50d5654f0db20aeba3c0438bc0031b3\", element=\"9ee60f85-44d9-4638-889c-7607f3162245\")>,\n",
       " <selenium.webdriver.remote.webelement.WebElement (session=\"c50d5654f0db20aeba3c0438bc0031b3\", element=\"b8fc6a03-baf3-4dc1-b423-ecadbb8b8634\")>,\n",
       " <selenium.webdriver.remote.webelement.WebElement (session=\"c50d5654f0db20aeba3c0438bc0031b3\", element=\"dd15bc8f-4add-4829-8401-a3c8d576e902\")>]"
      ]
     },
     "execution_count": 13,
     "metadata": {},
     "output_type": "execute_result"
    }
   ],
   "source": [
    "images"
   ]
  },
  {
   "cell_type": "code",
   "execution_count": null,
   "metadata": {},
   "outputs": [],
   "source": []
  },
  {
   "cell_type": "code",
   "execution_count": 1,
   "metadata": {},
   "outputs": [],
   "source": [
    "\n",
    "    \n",
    "    with open(str(keyword) + '.csv', 'w', newline='', encoding='UTF-8') as f:\n",
    "        f.write('newsname\\n')\n",
    "        for i in range(len(newsname)):\n",
    "            f.write(newsname[i]+'\\n')"
   ]
  }
 ],
 "metadata": {
  "kernelspec": {
   "display_name": "pydatavenv",
   "language": "python",
   "name": "pydatavenv"
  },
  "language_info": {
   "codemirror_mode": {
    "name": "ipython",
    "version": 3
   },
   "file_extension": ".py",
   "mimetype": "text/x-python",
   "name": "python",
   "nbconvert_exporter": "python",
   "pygments_lexer": "ipython3",
   "version": "3.8.8"
  }
 },
 "nbformat": 4,
 "nbformat_minor": 4
}
