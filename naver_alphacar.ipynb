{
 "cells": [
  {
   "cell_type": "markdown",
   "metadata": {},
   "source": [
    "## alphacar naver 크롤링\n",
    "\n",
    "### 시스템에 부착된 장치가 작동되자 않습니다. usb_device_handle_win.cc: 1054 failed to read descriptor from node connection\n"
   ]
  },
  {
   "cell_type": "code",
   "execution_count": 4,
   "metadata": {},
   "outputs": [
    {
     "name": "stdout",
     "output_type": "stream",
     "text": [
      "scroll을 마지막까지 완료했습니다.\n"
     ]
    }
   ],
   "source": [
    "from selenium import webdriver\n",
    "from selenium.webdriver.common.keys import Keys\n",
    "import time\n",
    "import urllib.request\n",
    "import os\n",
    "\n",
    "\n",
    "driver = webdriver.Chrome('C:/Temp/chromedriver')\n",
    "driver.implicitly_wait(10)\n",
    "driver.get(\"https://search.naver.com/search.naver?where=image&sm=tab_jum&query=\")\n",
    "elem = driver.find_element_by_name(\"query\")\n",
    "elem.send_keys(\"알파카 전동킥보드\")\n",
    "elem.send_keys(Keys.RETURN)\n",
    "\n",
    "\n",
    "def scroll_webpage(driver):\n",
    "    heightPre = driver.execute_script(\"return document.body.scrollHeight\")\n",
    "    while True:\n",
    "        driver.execute_script(\n",
    "            \"window.scrollTo(0, document.body.scrollHeight);\")\n",
    "        time.sleep(1)  # SCROLL DELAY\n",
    "        heightCurr = driver.execute_script(\"return document.body.scrollHeight\")\n",
    "        try:\n",
    "\n",
    "            if heightCurr == heightPre:\n",
    "                driver.find_element_by_css_selector(\".more_img\").click()\n",
    "                print('더보기 클릭')\n",
    "        except:\n",
    "            print(\"scroll을 마지막까지 완료했습니다.\")\n",
    "            return\n",
    "        heightPre = heightCurr\n",
    "\n",
    "\n",
    "def ImageDownload(driver):\n",
    "    images = driver.find_elements_by_css_selector(\".img_border\")  # image list\n",
    "    count = 1186\n",
    "    for image in images:\n",
    "        try:\n",
    "            image.click()\n",
    "            time.sleep(2)\n",
    "            # imgUrl = driver.find_element_by_css_selector(\".n3VNCb\").get_attribute(\"src\")\n",
    "            imgUrl = driver.find_element_by_xpath(\n",
    "                '/html/body/div[4]/div[2]/div[2]/div/a/img').get_attribute(\"src\")\n",
    "            opener = urllib.request.build_opener()\n",
    "            opener.addheaders = [\n",
    "                ('User-Agent', 'Mozilla/5.0 (Windows NT 6.1; WOW64) AppleWebKit/537.36 (KHTML, like Gecko) Chrome/86.0.4240.183 Safari/537.36')]\n",
    "            urllib.request.install_opener(opener)\n",
    "            urllib.request.urlretrieve(imgUrl, \"./images/\"+str(count) + \".jpg\")\n",
    "            count = count + 1\n",
    "        except:\n",
    "            pass\n",
    "\n",
    "scroll_webpage(driver)\n",
    "ImageDownload(driver)\n",
    "\n",
    "driver.close()"
   ]
  }
 ],
 "metadata": {
  "kernelspec": {
   "display_name": "pydatavenv",
   "language": "python",
   "name": "pydatavenv"
  },
  "language_info": {
   "codemirror_mode": {
    "name": "ipython",
    "version": 3
   },
   "file_extension": ".py",
   "mimetype": "text/x-python",
   "name": "python",
   "nbconvert_exporter": "python",
   "pygments_lexer": "ipython3",
   "version": "3.8.8"
  }
 },
 "nbformat": 4,
 "nbformat_minor": 4
}
