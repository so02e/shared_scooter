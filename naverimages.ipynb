{
 "cells": [
  {
   "cell_type": "code",
   "execution_count": 2,
   "metadata": {},
   "outputs": [
    {
     "name": "stdin",
     "output_type": "stream",
     "text": [
      "검색어를 입력하세요 :  전동킥보드\n"
     ]
    },
    {
     "name": "stdout",
     "output_type": "stream",
     "text": [
      "다운로드 완료\n"
     ]
    }
   ],
   "source": [
    "from urllib.request import urlopen\n",
    "from bs4 import BeautifulSoup as bs\n",
    "from urllib.parse import quote_plus\n",
    "\n",
    "baseUrl = 'https://search.naver.com/search.naver?where=image&sm=tab_jum&query=' # 네이버 검색url\n",
    "plusUrl = input('검색어를 입력하세요 : ') # 검색어 질문\n",
    "url = baseUrl + quote_plus(plusUrl) # url로 이동하기위한 쿼리문자열 만들기\n",
    "html = urlopen(url) # url 열기\n",
    "soup = bs(html, \"html.parser\")\n",
    "img = soup.find_all(class_='_img', limit = 50) #클래스가 _img인 사진 50장으로 제한\n",
    "\n",
    "n = 1\n",
    "for i in img: # 이미지를 50개 저장하기 위한 반복문\n",
    "    imgUrl = i['data-source'] \n",
    "    with urlopen(imgUrl) as f:\n",
    "        with open('./images/' + plusUrl + str(n)+'.jpg','wb') as h: # 이미지 + 사진번호 + 확장자는 jpg\n",
    "            img = f.read() #이미지 읽기\n",
    "            h.write(img) # 이미지 저장\n",
    "    n += 1\n",
    "print('다운로드 완료')"
   ]
  }
 ],
 "metadata": {
  "kernelspec": {
   "display_name": "pydatavenv",
   "language": "python",
   "name": "pydatavenv"
  },
  "language_info": {
   "codemirror_mode": {
    "name": "ipython",
    "version": 3
   },
   "file_extension": ".py",
   "mimetype": "text/x-python",
   "name": "python",
   "nbconvert_exporter": "python",
   "pygments_lexer": "ipython3",
   "version": "3.8.8"
  }
 },
 "nbformat": 4,
 "nbformat_minor": 4
}
