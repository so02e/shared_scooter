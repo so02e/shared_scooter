{
 "cells": [
  {
   "cell_type": "code",
   "execution_count": 1,
   "metadata": {},
   "outputs": [],
   "source": [
    "import folium\n",
    "import json\n",
    "import pandas as pd\n",
    "import numpy as np\n",
    "import geopandas as gpd\n",
    "import fiona\n",
    "import os\n",
    "import seaborn as sns\n",
    "import matplotlib.pyplot as plt\n",
    "from shapely.geometry import Polygon, LineString, Point\n",
    "from tqdm import tqdm"
   ]
  },
  {
   "cell_type": "code",
   "execution_count": 2,
   "metadata": {},
   "outputs": [
    {
     "data": {
      "text/html": [
       "<div>\n",
       "<style scoped>\n",
       "    .dataframe tbody tr th:only-of-type {\n",
       "        vertical-align: middle;\n",
       "    }\n",
       "\n",
       "    .dataframe tbody tr th {\n",
       "        vertical-align: top;\n",
       "    }\n",
       "\n",
       "    .dataframe thead th {\n",
       "        text-align: right;\n",
       "    }\n",
       "</style>\n",
       "<table border=\"1\" class=\"dataframe\">\n",
       "  <thead>\n",
       "    <tr style=\"text-align: right;\">\n",
       "      <th></th>\n",
       "      <th>gid</th>\n",
       "      <th>2030val</th>\n",
       "      <th>layer</th>\n",
       "      <th>geometry</th>\n",
       "    </tr>\n",
       "  </thead>\n",
       "  <tbody>\n",
       "    <tr>\n",
       "      <th>0</th>\n",
       "      <td>다사579454</td>\n",
       "      <td>77.0</td>\n",
       "      <td>강남구 20,30대 인구수</td>\n",
       "      <td>MULTIPOLYGON (((127.02366 37.50691, 127.02365 ...</td>\n",
       "    </tr>\n",
       "    <tr>\n",
       "      <th>1</th>\n",
       "      <td>다사613448</td>\n",
       "      <td>66.0</td>\n",
       "      <td>강남구 20,30대 인구수</td>\n",
       "      <td>MULTIPOLYGON (((127.06216 37.50166, 127.06215 ...</td>\n",
       "    </tr>\n",
       "    <tr>\n",
       "      <th>2</th>\n",
       "      <td>다사585452</td>\n",
       "      <td>0.0</td>\n",
       "      <td>강남구 20,30대 인구수</td>\n",
       "      <td>MULTIPOLYGON (((127.03046 37.50514, 127.03045 ...</td>\n",
       "    </tr>\n",
       "    <tr>\n",
       "      <th>3</th>\n",
       "      <td>다사583456</td>\n",
       "      <td>227.0</td>\n",
       "      <td>강남구 20,30대 인구수</td>\n",
       "      <td>MULTIPOLYGON (((127.02817 37.50874, 127.02817 ...</td>\n",
       "    </tr>\n",
       "    <tr>\n",
       "      <th>4</th>\n",
       "      <td>다사592432</td>\n",
       "      <td>85.0</td>\n",
       "      <td>강남구 20,30대 인구수</td>\n",
       "      <td>MULTIPOLYGON (((127.03849 37.48714, 127.03848 ...</td>\n",
       "    </tr>\n",
       "    <tr>\n",
       "      <th>...</th>\n",
       "      <td>...</td>\n",
       "      <td>...</td>\n",
       "      <td>...</td>\n",
       "      <td>...</td>\n",
       "    </tr>\n",
       "    <tr>\n",
       "      <th>9128</th>\n",
       "      <td>다사559438</td>\n",
       "      <td>NaN</td>\n",
       "      <td>서초구 20,30대 인구수</td>\n",
       "      <td>MULTIPOLYGON (((127.00113 37.49240, 127.00112 ...</td>\n",
       "    </tr>\n",
       "    <tr>\n",
       "      <th>9129</th>\n",
       "      <td>다사618387</td>\n",
       "      <td>NaN</td>\n",
       "      <td>서초구 20,30대 인구수</td>\n",
       "      <td>MULTIPOLYGON (((127.06813 37.44669, 127.06813 ...</td>\n",
       "    </tr>\n",
       "    <tr>\n",
       "      <th>9130</th>\n",
       "      <td>다사559464</td>\n",
       "      <td>NaN</td>\n",
       "      <td>서초구 20,30대 인구수</td>\n",
       "      <td>MULTIPOLYGON (((127.00097 37.51583, 127.00097 ...</td>\n",
       "    </tr>\n",
       "    <tr>\n",
       "      <th>9131</th>\n",
       "      <td>다사585417</td>\n",
       "      <td>NaN</td>\n",
       "      <td>서초구 20,30대 인구수</td>\n",
       "      <td>MULTIPOLYGON (((127.03066 37.47359, 127.03065 ...</td>\n",
       "    </tr>\n",
       "    <tr>\n",
       "      <th>9132</th>\n",
       "      <td>다사548430</td>\n",
       "      <td>NaN</td>\n",
       "      <td>서초구 20,30대 인구수</td>\n",
       "      <td>MULTIPOLYGON (((126.98873 37.48514, 126.98873 ...</td>\n",
       "    </tr>\n",
       "  </tbody>\n",
       "</table>\n",
       "<p>9133 rows × 4 columns</p>\n",
       "</div>"
      ],
      "text/plain": [
       "           gid  2030val           layer  \\\n",
       "0     다사579454     77.0  강남구 20,30대 인구수   \n",
       "1     다사613448     66.0  강남구 20,30대 인구수   \n",
       "2     다사585452      0.0  강남구 20,30대 인구수   \n",
       "3     다사583456    227.0  강남구 20,30대 인구수   \n",
       "4     다사592432     85.0  강남구 20,30대 인구수   \n",
       "...        ...      ...             ...   \n",
       "9128  다사559438      NaN  서초구 20,30대 인구수   \n",
       "9129  다사618387      NaN  서초구 20,30대 인구수   \n",
       "9130  다사559464      NaN  서초구 20,30대 인구수   \n",
       "9131  다사585417      NaN  서초구 20,30대 인구수   \n",
       "9132  다사548430      NaN  서초구 20,30대 인구수   \n",
       "\n",
       "                                               geometry  \n",
       "0     MULTIPOLYGON (((127.02366 37.50691, 127.02365 ...  \n",
       "1     MULTIPOLYGON (((127.06216 37.50166, 127.06215 ...  \n",
       "2     MULTIPOLYGON (((127.03046 37.50514, 127.03045 ...  \n",
       "3     MULTIPOLYGON (((127.02817 37.50874, 127.02817 ...  \n",
       "4     MULTIPOLYGON (((127.03849 37.48714, 127.03848 ...  \n",
       "...                                                 ...  \n",
       "9128  MULTIPOLYGON (((127.00113 37.49240, 127.00112 ...  \n",
       "9129  MULTIPOLYGON (((127.06813 37.44669, 127.06813 ...  \n",
       "9130  MULTIPOLYGON (((127.00097 37.51583, 127.00097 ...  \n",
       "9131  MULTIPOLYGON (((127.03066 37.47359, 127.03065 ...  \n",
       "9132  MULTIPOLYGON (((126.98873 37.48514, 126.98873 ...  \n",
       "\n",
       "[9133 rows x 4 columns]"
      ]
     },
     "execution_count": 2,
     "metadata": {},
     "output_type": "execute_result"
    }
   ],
   "source": [
    "data = gpd.read_file('data/서울시 격자 인구 데이터/강남서초2030대인구수 - 복사본.geojson')\n",
    "data"
   ]
  },
  {
   "cell_type": "code",
   "execution_count": 5,
   "metadata": {},
   "outputs": [
    {
     "data": {
      "text/html": [
       "<div>\n",
       "<style scoped>\n",
       "    .dataframe tbody tr th:only-of-type {\n",
       "        vertical-align: middle;\n",
       "    }\n",
       "\n",
       "    .dataframe tbody tr th {\n",
       "        vertical-align: top;\n",
       "    }\n",
       "\n",
       "    .dataframe thead th {\n",
       "        text-align: right;\n",
       "    }\n",
       "</style>\n",
       "<table border=\"1\" class=\"dataframe\">\n",
       "  <thead>\n",
       "    <tr style=\"text-align: right;\">\n",
       "      <th></th>\n",
       "      <th>gid</th>\n",
       "      <th>2030val</th>\n",
       "      <th>layer</th>\n",
       "      <th>geometry</th>\n",
       "    </tr>\n",
       "  </thead>\n",
       "  <tbody>\n",
       "    <tr>\n",
       "      <th>0</th>\n",
       "      <td>다사579454</td>\n",
       "      <td>77.0</td>\n",
       "      <td>강남구 20,30대 인구수</td>\n",
       "      <td>MULTIPOLYGON (((127.02366 37.50691, 127.02365 ...</td>\n",
       "    </tr>\n",
       "    <tr>\n",
       "      <th>1</th>\n",
       "      <td>다사613448</td>\n",
       "      <td>66.0</td>\n",
       "      <td>강남구 20,30대 인구수</td>\n",
       "      <td>MULTIPOLYGON (((127.06216 37.50166, 127.06215 ...</td>\n",
       "    </tr>\n",
       "    <tr>\n",
       "      <th>2</th>\n",
       "      <td>다사585452</td>\n",
       "      <td>0.0</td>\n",
       "      <td>강남구 20,30대 인구수</td>\n",
       "      <td>MULTIPOLYGON (((127.03046 37.50514, 127.03045 ...</td>\n",
       "    </tr>\n",
       "    <tr>\n",
       "      <th>3</th>\n",
       "      <td>다사583456</td>\n",
       "      <td>227.0</td>\n",
       "      <td>강남구 20,30대 인구수</td>\n",
       "      <td>MULTIPOLYGON (((127.02817 37.50874, 127.02817 ...</td>\n",
       "    </tr>\n",
       "    <tr>\n",
       "      <th>4</th>\n",
       "      <td>다사592432</td>\n",
       "      <td>85.0</td>\n",
       "      <td>강남구 20,30대 인구수</td>\n",
       "      <td>MULTIPOLYGON (((127.03849 37.48714, 127.03848 ...</td>\n",
       "    </tr>\n",
       "    <tr>\n",
       "      <th>...</th>\n",
       "      <td>...</td>\n",
       "      <td>...</td>\n",
       "      <td>...</td>\n",
       "      <td>...</td>\n",
       "    </tr>\n",
       "    <tr>\n",
       "      <th>9128</th>\n",
       "      <td>다사559438</td>\n",
       "      <td>0.0</td>\n",
       "      <td>서초구 20,30대 인구수</td>\n",
       "      <td>MULTIPOLYGON (((127.00113 37.49240, 127.00112 ...</td>\n",
       "    </tr>\n",
       "    <tr>\n",
       "      <th>9129</th>\n",
       "      <td>다사618387</td>\n",
       "      <td>0.0</td>\n",
       "      <td>서초구 20,30대 인구수</td>\n",
       "      <td>MULTIPOLYGON (((127.06813 37.44669, 127.06813 ...</td>\n",
       "    </tr>\n",
       "    <tr>\n",
       "      <th>9130</th>\n",
       "      <td>다사559464</td>\n",
       "      <td>0.0</td>\n",
       "      <td>서초구 20,30대 인구수</td>\n",
       "      <td>MULTIPOLYGON (((127.00097 37.51583, 127.00097 ...</td>\n",
       "    </tr>\n",
       "    <tr>\n",
       "      <th>9131</th>\n",
       "      <td>다사585417</td>\n",
       "      <td>0.0</td>\n",
       "      <td>서초구 20,30대 인구수</td>\n",
       "      <td>MULTIPOLYGON (((127.03066 37.47359, 127.03065 ...</td>\n",
       "    </tr>\n",
       "    <tr>\n",
       "      <th>9132</th>\n",
       "      <td>다사548430</td>\n",
       "      <td>0.0</td>\n",
       "      <td>서초구 20,30대 인구수</td>\n",
       "      <td>MULTIPOLYGON (((126.98873 37.48514, 126.98873 ...</td>\n",
       "    </tr>\n",
       "  </tbody>\n",
       "</table>\n",
       "<p>9133 rows × 4 columns</p>\n",
       "</div>"
      ],
      "text/plain": [
       "           gid  2030val           layer  \\\n",
       "0     다사579454     77.0  강남구 20,30대 인구수   \n",
       "1     다사613448     66.0  강남구 20,30대 인구수   \n",
       "2     다사585452      0.0  강남구 20,30대 인구수   \n",
       "3     다사583456    227.0  강남구 20,30대 인구수   \n",
       "4     다사592432     85.0  강남구 20,30대 인구수   \n",
       "...        ...      ...             ...   \n",
       "9128  다사559438      0.0  서초구 20,30대 인구수   \n",
       "9129  다사618387      0.0  서초구 20,30대 인구수   \n",
       "9130  다사559464      0.0  서초구 20,30대 인구수   \n",
       "9131  다사585417      0.0  서초구 20,30대 인구수   \n",
       "9132  다사548430      0.0  서초구 20,30대 인구수   \n",
       "\n",
       "                                               geometry  \n",
       "0     MULTIPOLYGON (((127.02366 37.50691, 127.02365 ...  \n",
       "1     MULTIPOLYGON (((127.06216 37.50166, 127.06215 ...  \n",
       "2     MULTIPOLYGON (((127.03046 37.50514, 127.03045 ...  \n",
       "3     MULTIPOLYGON (((127.02817 37.50874, 127.02817 ...  \n",
       "4     MULTIPOLYGON (((127.03849 37.48714, 127.03848 ...  \n",
       "...                                                 ...  \n",
       "9128  MULTIPOLYGON (((127.00113 37.49240, 127.00112 ...  \n",
       "9129  MULTIPOLYGON (((127.06813 37.44669, 127.06813 ...  \n",
       "9130  MULTIPOLYGON (((127.00097 37.51583, 127.00097 ...  \n",
       "9131  MULTIPOLYGON (((127.03066 37.47359, 127.03065 ...  \n",
       "9132  MULTIPOLYGON (((126.98873 37.48514, 126.98873 ...  \n",
       "\n",
       "[9133 rows x 4 columns]"
      ]
     },
     "execution_count": 5,
     "metadata": {},
     "output_type": "execute_result"
    }
   ],
   "source": [
    "data.loc[data['2030val'].apply(pd.isna), '2030val'] = 0\n",
    "data"
   ]
  },
  {
   "cell_type": "code",
   "execution_count": 6,
   "metadata": {},
   "outputs": [],
   "source": [
    "data_gid = data[['gid', 'geometry']]"
   ]
  },
  {
   "cell_type": "code",
   "execution_count": 7,
   "metadata": {},
   "outputs": [
    {
     "data": {
      "text/html": [
       "<div>\n",
       "<style scoped>\n",
       "    .dataframe tbody tr th:only-of-type {\n",
       "        vertical-align: middle;\n",
       "    }\n",
       "\n",
       "    .dataframe tbody tr th {\n",
       "        vertical-align: top;\n",
       "    }\n",
       "\n",
       "    .dataframe thead th {\n",
       "        text-align: right;\n",
       "    }\n",
       "</style>\n",
       "<table border=\"1\" class=\"dataframe\">\n",
       "  <thead>\n",
       "    <tr style=\"text-align: right;\">\n",
       "      <th></th>\n",
       "      <th>gid</th>\n",
       "      <th>geometry</th>\n",
       "    </tr>\n",
       "  </thead>\n",
       "  <tbody>\n",
       "    <tr>\n",
       "      <th>0</th>\n",
       "      <td>다사579454</td>\n",
       "      <td>MULTIPOLYGON (((127.02366 37.50691, 127.02365 ...</td>\n",
       "    </tr>\n",
       "    <tr>\n",
       "      <th>1</th>\n",
       "      <td>다사613448</td>\n",
       "      <td>MULTIPOLYGON (((127.06216 37.50166, 127.06215 ...</td>\n",
       "    </tr>\n",
       "    <tr>\n",
       "      <th>2</th>\n",
       "      <td>다사585452</td>\n",
       "      <td>MULTIPOLYGON (((127.03046 37.50514, 127.03045 ...</td>\n",
       "    </tr>\n",
       "    <tr>\n",
       "      <th>3</th>\n",
       "      <td>다사583456</td>\n",
       "      <td>MULTIPOLYGON (((127.02817 37.50874, 127.02817 ...</td>\n",
       "    </tr>\n",
       "    <tr>\n",
       "      <th>4</th>\n",
       "      <td>다사592432</td>\n",
       "      <td>MULTIPOLYGON (((127.03849 37.48714, 127.03848 ...</td>\n",
       "    </tr>\n",
       "    <tr>\n",
       "      <th>...</th>\n",
       "      <td>...</td>\n",
       "      <td>...</td>\n",
       "    </tr>\n",
       "    <tr>\n",
       "      <th>9128</th>\n",
       "      <td>다사559438</td>\n",
       "      <td>MULTIPOLYGON (((127.00113 37.49240, 127.00112 ...</td>\n",
       "    </tr>\n",
       "    <tr>\n",
       "      <th>9129</th>\n",
       "      <td>다사618387</td>\n",
       "      <td>MULTIPOLYGON (((127.06813 37.44669, 127.06813 ...</td>\n",
       "    </tr>\n",
       "    <tr>\n",
       "      <th>9130</th>\n",
       "      <td>다사559464</td>\n",
       "      <td>MULTIPOLYGON (((127.00097 37.51583, 127.00097 ...</td>\n",
       "    </tr>\n",
       "    <tr>\n",
       "      <th>9131</th>\n",
       "      <td>다사585417</td>\n",
       "      <td>MULTIPOLYGON (((127.03066 37.47359, 127.03065 ...</td>\n",
       "    </tr>\n",
       "    <tr>\n",
       "      <th>9132</th>\n",
       "      <td>다사548430</td>\n",
       "      <td>MULTIPOLYGON (((126.98873 37.48514, 126.98873 ...</td>\n",
       "    </tr>\n",
       "  </tbody>\n",
       "</table>\n",
       "<p>9133 rows × 2 columns</p>\n",
       "</div>"
      ],
      "text/plain": [
       "           gid                                           geometry\n",
       "0     다사579454  MULTIPOLYGON (((127.02366 37.50691, 127.02365 ...\n",
       "1     다사613448  MULTIPOLYGON (((127.06216 37.50166, 127.06215 ...\n",
       "2     다사585452  MULTIPOLYGON (((127.03046 37.50514, 127.03045 ...\n",
       "3     다사583456  MULTIPOLYGON (((127.02817 37.50874, 127.02817 ...\n",
       "4     다사592432  MULTIPOLYGON (((127.03849 37.48714, 127.03848 ...\n",
       "...        ...                                                ...\n",
       "9128  다사559438  MULTIPOLYGON (((127.00113 37.49240, 127.00112 ...\n",
       "9129  다사618387  MULTIPOLYGON (((127.06813 37.44669, 127.06813 ...\n",
       "9130  다사559464  MULTIPOLYGON (((127.00097 37.51583, 127.00097 ...\n",
       "9131  다사585417  MULTIPOLYGON (((127.03066 37.47359, 127.03065 ...\n",
       "9132  다사548430  MULTIPOLYGON (((126.98873 37.48514, 126.98873 ...\n",
       "\n",
       "[9133 rows x 2 columns]"
      ]
     },
     "execution_count": 7,
     "metadata": {},
     "output_type": "execute_result"
    }
   ],
   "source": [
    "data_gid"
   ]
  },
  {
   "cell_type": "markdown",
   "metadata": {},
   "source": [
    "## 강남구서초구 출근 자전거"
   ]
  },
  {
   "cell_type": "code",
   "execution_count": null,
   "metadata": {},
   "outputs": [],
   "source": [
    "data1 = pd.read_csv(\"output/강남구서초구정류장아침승차.csv\")"
   ]
  },
  {
   "cell_type": "code",
   "execution_count": null,
   "metadata": {},
   "outputs": [],
   "source": [
    "data1 = data1[[\"표준ID\",\"정류소명\",\"X좌표\",\"Y좌표\",\"6시승차총승객수\",\"7시승차총승객수\",\"8시승차총승객수\",\"9시승차총승객수\"]]"
   ]
  },
  {
   "cell_type": "code",
   "execution_count": null,
   "metadata": {},
   "outputs": [],
   "source": [
    "data1[\"아침총승객수\"] = data1[\"6시승차총승객수\"] + data1[\"7시승차총승객수\"]+ data1[\"8시승차총승객수\"]+ data1[\"9시승차총승객수\"]"
   ]
  },
  {
   "cell_type": "code",
   "execution_count": null,
   "metadata": {},
   "outputs": [],
   "source": [
    "data1 = data1[[\"표준ID\",\"정류소명\",\"X좌표\",\"Y좌표\",\"아침총승객수\"]]\n",
    "data1"
   ]
  },
  {
   "cell_type": "code",
   "execution_count": null,
   "metadata": {},
   "outputs": [],
   "source": [
    "data1['bus_cnt']=1\n",
    "data1['X좌표'] = data1['X좌표'].astype(float)\n",
    "data1['Y좌표'] = data1['Y좌표'].astype(float)\n",
    "data1['point'] = data1.apply(lambda row : Point([row['X좌표'], row['Y좌표']]), axis=1)\n",
    "data1 = gpd.GeoDataFrame(data1, geometry='point')"
   ]
  },
  {
   "cell_type": "code",
   "execution_count": null,
   "metadata": {},
   "outputs": [],
   "source": [
    "data1"
   ]
  },
  {
   "cell_type": "code",
   "execution_count": null,
   "metadata": {},
   "outputs": [],
   "source": [
    "gid_list = []\n",
    "for i in tqdm(range(data1.shape[0])):\n",
    "    point = data1['point'].iloc[i]\n",
    "    if data_gid['geometry'].contains(point).sum() == 0:\n",
    "        g1 = \"Na\"\n",
    "    else :\n",
    "        g = data_gid['gid'].loc[data_gid['geometry'].contains(point)]\n",
    "        g1 = g.iloc[0]\n",
    "    gid_list.append(g1)"
   ]
  },
  {
   "cell_type": "code",
   "execution_count": null,
   "metadata": {},
   "outputs": [],
   "source": [
    "data1['gid'] = gid_list\n",
    "data1['TL_cnt']=1\n",
    "data1"
   ]
  },
  {
   "cell_type": "code",
   "execution_count": null,
   "metadata": {},
   "outputs": [],
   "source": [
    "data1 = data1[[\"gid\",\"아침총승객수\"]]\n",
    "data1"
   ]
  },
  {
   "cell_type": "code",
   "execution_count": null,
   "metadata": {},
   "outputs": [],
   "source": [
    "result1 = data1[['아침총승객수', 'gid']].groupby(['gid']).sum()"
   ]
  },
  {
   "cell_type": "code",
   "execution_count": null,
   "metadata": {},
   "outputs": [],
   "source": [
    "result1.reset_index(inplace=True)"
   ]
  },
  {
   "cell_type": "code",
   "execution_count": null,
   "metadata": {},
   "outputs": [],
   "source": [
    "result1 = result1.drop(index=0, axis=0)"
   ]
  },
  {
   "cell_type": "code",
   "execution_count": null,
   "metadata": {},
   "outputs": [],
   "source": [
    "result1"
   ]
  },
  {
   "cell_type": "code",
   "execution_count": null,
   "metadata": {},
   "outputs": [],
   "source": [
    "result1.to_csv(\"output/그리드 전처리 완료/서초강남버스아침승차.csv\")"
   ]
  },
  {
   "cell_type": "markdown",
   "metadata": {},
   "source": [
    "## 강남구서초구 퇴근 자전거"
   ]
  },
  {
   "cell_type": "code",
   "execution_count": null,
   "metadata": {},
   "outputs": [],
   "source": [
    "data1 = pd.read_csv(\"output/서초강남지하철승하차.csv\")"
   ]
  },
  {
   "cell_type": "code",
   "execution_count": null,
   "metadata": {},
   "outputs": [],
   "source": [
    "data1"
   ]
  },
  {
   "cell_type": "code",
   "execution_count": null,
   "metadata": {},
   "outputs": [],
   "source": [
    "data1 = data1[[\"역이름\",\"경도\",\"위도\",\"06시-07시 승차인원\",\"07시-08시 승차인원\",\"08시-09시 승차인원\",\"09시-10시 승차인원\"]]"
   ]
  },
  {
   "cell_type": "code",
   "execution_count": null,
   "metadata": {},
   "outputs": [],
   "source": [
    "data1"
   ]
  },
  {
   "cell_type": "code",
   "execution_count": null,
   "metadata": {},
   "outputs": [],
   "source": [
    "data1[\"아침총승객수\"] = data1[\"06시-07시 승차인원\"] + data1[\"07시-08시 승차인원\"]+ data1[\"08시-09시 승차인원\"]+ data1[\"09시-10시 승차인원\"]"
   ]
  },
  {
   "cell_type": "code",
   "execution_count": null,
   "metadata": {},
   "outputs": [],
   "source": [
    "data1 = data1[[\"역이름\",\"경도\",\"위도\",\"아침총승객수\"]]\n",
    "data1"
   ]
  },
  {
   "cell_type": "code",
   "execution_count": null,
   "metadata": {},
   "outputs": [],
   "source": [
    "data1['sub_cnt']=1\n",
    "data1['경도'] = data1['경도'].astype(float)\n",
    "data1['위도'] = data1['위도'].astype(float)\n",
    "data1['point'] = data1.apply(lambda row : Point([row['경도'], row['위도']]), axis=1)\n",
    "data1 = gpd.GeoDataFrame(data1, geometry='point')"
   ]
  },
  {
   "cell_type": "code",
   "execution_count": null,
   "metadata": {},
   "outputs": [],
   "source": [
    "data1"
   ]
  },
  {
   "cell_type": "code",
   "execution_count": null,
   "metadata": {},
   "outputs": [],
   "source": [
    "gid_list = []\n",
    "for i in tqdm(range(data1.shape[0])):\n",
    "    point = data1['point'].iloc[i]\n",
    "    if data_gid['geometry'].contains(point).sum() == 0:\n",
    "        g1 = \"Na\"\n",
    "    else :\n",
    "        g = data_gid['gid'].loc[data_gid['geometry'].contains(point)]\n",
    "        g1 = g.iloc[0]\n",
    "    gid_list.append(g1)"
   ]
  },
  {
   "cell_type": "code",
   "execution_count": null,
   "metadata": {},
   "outputs": [],
   "source": [
    "data1['gid'] = gid_list\n",
    "data1['TL_cnt']=1\n",
    "data1"
   ]
  },
  {
   "cell_type": "code",
   "execution_count": null,
   "metadata": {},
   "outputs": [],
   "source": [
    "data1 = data1[[\"gid\",\"아침총승객수\"]]\n",
    "data1"
   ]
  },
  {
   "cell_type": "code",
   "execution_count": null,
   "metadata": {},
   "outputs": [],
   "source": [
    "result1 = data1[['아침총승객수', 'gid']].groupby(['gid']).sum()"
   ]
  },
  {
   "cell_type": "code",
   "execution_count": null,
   "metadata": {},
   "outputs": [],
   "source": [
    "result1"
   ]
  },
  {
   "cell_type": "code",
   "execution_count": null,
   "metadata": {},
   "outputs": [],
   "source": [
    "result1.reset_index(inplace=True)"
   ]
  },
  {
   "cell_type": "code",
   "execution_count": null,
   "metadata": {},
   "outputs": [],
   "source": [
    "result1 = result1.drop(index=0, axis=0)"
   ]
  },
  {
   "cell_type": "code",
   "execution_count": null,
   "metadata": {},
   "outputs": [],
   "source": [
    "result1"
   ]
  },
  {
   "cell_type": "code",
   "execution_count": null,
   "metadata": {},
   "outputs": [],
   "source": [
    "result1.to_csv(\"output/그리드 전처리 완료/서초강남지하철아침승차.csv\")"
   ]
  }
 ],
 "metadata": {
  "kernelspec": {
   "display_name": "Python 3",
   "language": "python",
   "name": "python3"
  },
  "language_info": {
   "codemirror_mode": {
    "name": "ipython",
    "version": 3
   },
   "file_extension": ".py",
   "mimetype": "text/x-python",
   "name": "python",
   "nbconvert_exporter": "python",
   "pygments_lexer": "ipython3",
   "version": "3.8.5"
  }
 },
 "nbformat": 4,
 "nbformat_minor": 4
}
